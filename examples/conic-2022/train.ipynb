{
 "cells": [
  {
   "cell_type": "markdown",
   "id": "c0b195ff",
   "metadata": {},
   "source": [
    "# Please read [this](https://github.com/stardist/stardist/tree/conic-2022/examples/conic-2022/README.md) first\n",
    "\n",
    "This notebook demonstrates how we trained models for the 2022 [*Colon Nuclei Identification and Counting (CoNIC)* challenge](https://conic-challenge.grand-challenge.org).\n",
    "\n",
    "Please see [our paper](https://arxiv.org/abs/2203.02284) for more details."
   ]
  },
  {
   "cell_type": "code",
   "execution_count": 1,
   "id": "52e48793",
   "metadata": {},
   "outputs": [],
   "source": [
    "import os\n",
    "from csbdeep.utils.tf import limit_gpu_memory\n",
    "\n",
    "# you may need to adjust this to your GPU needs and memory capacity\n",
    "\n",
    "# os.environ['CUDA_VISIBLE_DEVICES'] = ...\n",
    "# limit_gpu_memory(0.8, total_memory=24000)\n",
    "\n",
    "limit_gpu_memory(None, allow_growth=True)"
   ]
  },
  {
   "cell_type": "code",
   "execution_count": 2,
   "id": "33d44eb9",
   "metadata": {},
   "outputs": [],
   "source": [
    "import numpy as np\n",
    "from types import SimpleNamespace\n",
    "from sklearn.model_selection import train_test_split\n",
    "\n",
    "from stardist import gputools_available\n",
    "from stardist.models import Config2D, StarDist2D\n",
    "\n",
    "from conic import get_data, oversample_classes, CLASS_NAMES\n",
    "\n",
    "from conic import HEStaining, HueBrightnessSaturation\n",
    "from augmend import (\n",
    "    Augmend,\n",
    "    AdditiveNoise,\n",
    "    Augmend,\n",
    "    Elastic,\n",
    "    FlipRot90,\n",
    "    GaussianBlur,\n",
    "    Identity,\n",
    ")"
   ]
  },
  {
   "cell_type": "code",
   "execution_count": 3,
   "id": "5dfcbad4",
   "metadata": {},
   "outputs": [],
   "source": [
    "def get_class_count(Y0):\n",
    "    class_count = np.bincount(Y0[:,::4,::4,1].ravel())\n",
    "    try:\n",
    "        import pandas as pd\n",
    "        df = pd.DataFrame(class_count, index=CLASS_NAMES.values(), columns=[\"counts\"])\n",
    "        df = df.drop(\"BACKGROUND\")\n",
    "        df[\"%\"] = (100 * (df[\"counts\"] / df[\"counts\"].sum())).round(2)\n",
    "        display(df)\n",
    "    except ModuleNotFoundError:\n",
    "        print(\"install 'pandas' to show class counts\")\n",
    "    return class_count"
   ]
  },
  {
   "cell_type": "markdown",
   "id": "7c07a2c8",
   "metadata": {},
   "source": [
    "## Configuration"
   ]
  },
  {
   "cell_type": "code",
   "execution_count": 4,
   "id": "e9360a16",
   "metadata": {},
   "outputs": [
    {
     "data": {
      "text/plain": [
       "{'datadir': './data',\n",
       " 'oversample': True,\n",
       " 'frac_val': 0.1,\n",
       " 'seed': None,\n",
       " 'modeldir': './models',\n",
       " 'epochs': 1000,\n",
       " 'batchsize': 4,\n",
       " 'n_depth': 4,\n",
       " 'lr': 0.0003,\n",
       " 'patch': 256,\n",
       " 'n_rays': 64,\n",
       " 'grid': (1, 1),\n",
       " 'head_blocks': 2,\n",
       " 'augment': True,\n",
       " 'cls_weights': False,\n",
       " 'workers': 1,\n",
       " 'gpu_datagen': False}"
      ]
     },
     "execution_count": 4,
     "metadata": {},
     "output_type": "execute_result"
    }
   ],
   "source": [
    "args = SimpleNamespace()\n",
    "\n",
    "# data in\n",
    "args.datadir     = \"./data\" # path to 'Patch-level Lizard Dataset' as provided by CoNIC organizers\n",
    "args.oversample  = True     # oversample training patches with rare classes\n",
    "args.frac_val    = 0.1      # fraction of data used for validation during training\n",
    "args.seed        = None     # for reproducible train/val data sets\n",
    "\n",
    "# model out (parameters as used for our challenge submissions)\n",
    "args.modeldir    = \"./models\"\n",
    "args.epochs      = 1000\n",
    "args.batchsize   = 4\n",
    "args.n_depth     = 4\n",
    "args.lr          = 3e-4\n",
    "args.patch       = 256\n",
    "args.n_rays      = 64\n",
    "args.grid        = (1,1)\n",
    "args.head_blocks = 2\n",
    "args.augment     = True\n",
    "args.cls_weights = False\n",
    "\n",
    "args.workers     = 1\n",
    "args.gpu_datagen = False and args.workers==1 and gputools_available() # note: ignore potential scikit-tensor error\n",
    "\n",
    "vars(args)"
   ]
  },
  {
   "cell_type": "code",
   "execution_count": 6,
   "id": "40e0a549",
   "metadata": {},
   "outputs": [],
   "source": [
    "# FOR DEMO PURPOSES ONLY: reduce model size and training time\n",
    "args.epochs      = 20\n",
    "args.n_depth     = 3\n",
    "args.n_rays      = 32\n",
    "args.grid        = (2,2)"
   ]
  },
  {
   "cell_type": "markdown",
   "id": "d2c0d8f5",
   "metadata": {},
   "source": [
    "## Data\n",
    "\n",
    "We only use the [Patch-level Lizard Dataset](https://drive.google.com/drive/folders/1il9jG7uA4-ebQ_lNmXbbF2eOK9uNwheb) provided by the [CoNIC challenge](https://conic-challenge.grand-challenge.org) organizers."
   ]
  },
  {
   "cell_type": "code",
   "execution_count": 7,
   "id": "ee8a48b6",
   "metadata": {},
   "outputs": [
    {
     "name": "stdout",
     "output_type": "stream",
     "text": [
      "total 2.2G\r\n",
      " 20K by-nc-sa.md\r\n",
      " 72K counts.csv\r\n",
      "4.0K dl.txt\r\n",
      "934M images.npy\r\n",
      "1.3G labels.npy\r\n",
      " 68K patch_info.csv\r\n",
      "4.0K README.txt\r\n"
     ]
    }
   ],
   "source": [
    "%ls -sh1 $args.datadir"
   ]
  },
  {
   "cell_type": "code",
   "execution_count": 8,
   "id": "70fa5d54",
   "metadata": {},
   "outputs": [
    {
     "data": {
      "application/vnd.jupyter.widget-view+json": {
       "model_id": "984e0ac3c5d34d71b2df0d70e407ed6d",
       "version_major": 2,
       "version_minor": 0
      },
      "text/plain": [
       "  0%|          | 0/4981 [00:00<?, ?it/s]"
      ]
     },
     "metadata": {},
     "output_type": "display_data"
    },
    {
     "data": {
      "text/html": [
       "<div>\n",
       "<style scoped>\n",
       "    .dataframe tbody tr th:only-of-type {\n",
       "        vertical-align: middle;\n",
       "    }\n",
       "\n",
       "    .dataframe tbody tr th {\n",
       "        vertical-align: top;\n",
       "    }\n",
       "\n",
       "    .dataframe thead th {\n",
       "        text-align: right;\n",
       "    }\n",
       "</style>\n",
       "<table border=\"1\" class=\"dataframe\">\n",
       "  <thead>\n",
       "    <tr style=\"text-align: right;\">\n",
       "      <th></th>\n",
       "      <th>counts</th>\n",
       "      <th>%</th>\n",
       "    </tr>\n",
       "  </thead>\n",
       "  <tbody>\n",
       "    <tr>\n",
       "      <th>Neutrophil</th>\n",
       "      <td>22572</td>\n",
       "      <td>0.77</td>\n",
       "    </tr>\n",
       "    <tr>\n",
       "      <th>Epithelial</th>\n",
       "      <td>1895959</td>\n",
       "      <td>64.44</td>\n",
       "    </tr>\n",
       "    <tr>\n",
       "      <th>Lymphocyte</th>\n",
       "      <td>340118</td>\n",
       "      <td>11.56</td>\n",
       "    </tr>\n",
       "    <tr>\n",
       "      <th>Plasma</th>\n",
       "      <td>101651</td>\n",
       "      <td>3.45</td>\n",
       "    </tr>\n",
       "    <tr>\n",
       "      <th>Eosinophil</th>\n",
       "      <td>18598</td>\n",
       "      <td>0.63</td>\n",
       "    </tr>\n",
       "    <tr>\n",
       "      <th>Connective</th>\n",
       "      <td>563428</td>\n",
       "      <td>19.15</td>\n",
       "    </tr>\n",
       "  </tbody>\n",
       "</table>\n",
       "</div>"
      ],
      "text/plain": [
       "             counts      %\n",
       "Neutrophil    22572   0.77\n",
       "Epithelial  1895959  64.44\n",
       "Lymphocyte   340118  11.56\n",
       "Plasma       101651   3.45\n",
       "Eosinophil    18598   0.63\n",
       "Connective   563428  19.15"
      ]
     },
     "metadata": {},
     "output_type": "display_data"
    }
   ],
   "source": [
    "X, Y, D, Y0, idx = get_data(args.datadir, seed=args.seed)\n",
    "X, Xv, Y, Yv, D, Dv, Y0, Y0v, idx, idxv = train_test_split(X, Y, D, Y0, idx, test_size=args.frac_val, random_state=args.seed)\n",
    "class_count = get_class_count(Y0)"
   ]
  },
  {
   "cell_type": "code",
   "execution_count": 9,
   "id": "da2d2d2f",
   "metadata": {
    "scrolled": true
   },
   "outputs": [
    {
     "name": "stdout",
     "output_type": "stream",
     "text": [
      "oversample classes [5 1 4 3]\n",
      "adding 4482 images of class 5 (Eosinophil)\n",
      "adding 4068 images of class 1 (Neutrophil)\n",
      "adding 1917 images of class 4 (Plasma)\n",
      "adding 1048 images of class 3 (Lymphocyte)\n"
     ]
    },
    {
     "data": {
      "text/html": [
       "<div>\n",
       "<style scoped>\n",
       "    .dataframe tbody tr th:only-of-type {\n",
       "        vertical-align: middle;\n",
       "    }\n",
       "\n",
       "    .dataframe tbody tr th {\n",
       "        vertical-align: top;\n",
       "    }\n",
       "\n",
       "    .dataframe thead th {\n",
       "        text-align: right;\n",
       "    }\n",
       "</style>\n",
       "<table border=\"1\" class=\"dataframe\">\n",
       "  <thead>\n",
       "    <tr style=\"text-align: right;\">\n",
       "      <th></th>\n",
       "      <th>counts</th>\n",
       "      <th>%</th>\n",
       "    </tr>\n",
       "  </thead>\n",
       "  <tbody>\n",
       "    <tr>\n",
       "      <th>Neutrophil</th>\n",
       "      <td>547807</td>\n",
       "      <td>4.40</td>\n",
       "    </tr>\n",
       "    <tr>\n",
       "      <th>Epithelial</th>\n",
       "      <td>5480641</td>\n",
       "      <td>44.02</td>\n",
       "    </tr>\n",
       "    <tr>\n",
       "      <th>Lymphocyte</th>\n",
       "      <td>2459795</td>\n",
       "      <td>19.76</td>\n",
       "    </tr>\n",
       "    <tr>\n",
       "      <th>Plasma</th>\n",
       "      <td>730444</td>\n",
       "      <td>5.87</td>\n",
       "    </tr>\n",
       "    <tr>\n",
       "      <th>Eosinophil</th>\n",
       "      <td>311316</td>\n",
       "      <td>2.50</td>\n",
       "    </tr>\n",
       "    <tr>\n",
       "      <th>Connective</th>\n",
       "      <td>2920271</td>\n",
       "      <td>23.46</td>\n",
       "    </tr>\n",
       "  </tbody>\n",
       "</table>\n",
       "</div>"
      ],
      "text/plain": [
       "             counts      %\n",
       "Neutrophil   547807   4.40\n",
       "Epithelial  5480641  44.02\n",
       "Lymphocyte  2459795  19.76\n",
       "Plasma       730444   5.87\n",
       "Eosinophil   311316   2.50\n",
       "Connective  2920271  23.46"
      ]
     },
     "metadata": {},
     "output_type": "display_data"
    }
   ],
   "source": [
    "if args.oversample:\n",
    "    X, Y, D, Y0, idx = oversample_classes(X, Y, D, Y0, idx, seed=args.seed)\n",
    "    class_count = get_class_count(Y0)"
   ]
  },
  {
   "cell_type": "code",
   "execution_count": 10,
   "id": "ad5fff81",
   "metadata": {},
   "outputs": [
    {
     "name": "stdout",
     "output_type": "stream",
     "text": [
      "class weights = [1.0, 1.0, 1.0, 1.0, 1.0, 1.0, 1.0]\n"
     ]
    }
   ],
   "source": [
    "if args.cls_weights:\n",
    "    inv_freq = np.median(class_count) / class_count\n",
    "    inv_freq = inv_freq ** 0.5\n",
    "    class_weights = inv_freq.round(4)\n",
    "else:\n",
    "    class_weights = np.ones(len(CLASS_NAMES))\n",
    "print(f\"class weights = {class_weights.tolist()}\")"
   ]
  },
  {
   "cell_type": "code",
   "execution_count": 11,
   "id": "13f81574",
   "metadata": {},
   "outputs": [
    {
     "name": "stdout",
     "output_type": "stream",
     "text": [
      "training images: 15997, validation images: 499\n"
     ]
    }
   ],
   "source": [
    "print(f'training images: {len(X)}, validation images: {len(Xv)}')"
   ]
  },
  {
   "cell_type": "markdown",
   "id": "27194b4c",
   "metadata": {},
   "source": [
    "## Augmentation"
   ]
  },
  {
   "cell_type": "code",
   "execution_count": 12,
   "id": "4e2933f5",
   "metadata": {},
   "outputs": [],
   "source": [
    "if args.augment:\n",
    "    aug = Augmend()\n",
    "    aug.add([HEStaining(amount_matrix=0.15, amount_stains=0.4), Identity()], probability=0.9)\n",
    "\n",
    "    aug.add([FlipRot90(axis=(0,1)), FlipRot90(axis=(0,1))])\n",
    "    aug.add([Elastic(grid=5, amount=10, order=1, axis=(0,1), use_gpu=False),\n",
    "             Elastic(grid=5, amount=10, order=0, axis=(0,1), use_gpu=False)], probability=0.8)\n",
    "    \n",
    "    aug.add([GaussianBlur(amount=(0,2), axis=(0,1), use_gpu=False), Identity()], probability=0.1)    \n",
    "    aug.add([AdditiveNoise(0.01), Identity()], probability=0.8)\n",
    "    \n",
    "    aug.add([HueBrightnessSaturation(hue=0, brightness=0.1, saturation=(1,1)), Identity()], probability=0.9)\n",
    "\n",
    "    def augmenter(x,y):\n",
    "        return aug([x,y])    \n",
    "else:\n",
    "    augmenter = None"
   ]
  },
  {
   "cell_type": "markdown",
   "id": "3e3452cb",
   "metadata": {},
   "source": [
    "## StarDist setup"
   ]
  },
  {
   "cell_type": "code",
   "execution_count": 13,
   "id": "f33347ab",
   "metadata": {},
   "outputs": [
    {
     "data": {
      "text/plain": [
       "{'n_dim': 2,\n",
       " 'axes': 'YXC',\n",
       " 'n_channel_in': 3,\n",
       " 'n_channel_out': 33,\n",
       " 'train_checkpoint': 'weights_best.h5',\n",
       " 'train_checkpoint_last': 'weights_last.h5',\n",
       " 'train_checkpoint_epoch': 'weights_now.h5',\n",
       " 'n_rays': 32,\n",
       " 'grid': (2, 2),\n",
       " 'backbone': 'unet',\n",
       " 'n_classes': 6,\n",
       " 'unet_n_depth': 3,\n",
       " 'unet_kernel_size': (3, 3),\n",
       " 'unet_n_filter_base': 64,\n",
       " 'unet_n_conv_per_depth': 2,\n",
       " 'unet_pool': (2, 2),\n",
       " 'unet_activation': 'relu',\n",
       " 'unet_last_activation': 'relu',\n",
       " 'unet_batch_norm': False,\n",
       " 'unet_dropout': 0.0,\n",
       " 'unet_prefix': '',\n",
       " 'net_conv_after_unet': 256,\n",
       " 'head_blocks': 2,\n",
       " 'net_input_shape': (None, None, 3),\n",
       " 'net_mask_shape': (None, None, 1),\n",
       " 'train_shape_completion': False,\n",
       " 'train_completion_crop': 32,\n",
       " 'train_patch_size': (256, 256),\n",
       " 'train_background_reg': 0.01,\n",
       " 'train_foreground_only': 0.9,\n",
       " 'train_sample_cache': True,\n",
       " 'train_dist_loss': 'mae',\n",
       " 'train_loss_weights': (1.0, 0.2, 1.0),\n",
       " 'train_class_weights': [1.0, 1.0, 1.0, 1.0, 1.0, 1.0, 1.0],\n",
       " 'train_epochs': 20,\n",
       " 'train_steps_per_epoch': 256,\n",
       " 'train_learning_rate': 0.0003,\n",
       " 'train_batch_size': 4,\n",
       " 'train_n_val_patches': None,\n",
       " 'train_tensorboard': True,\n",
       " 'train_focal_gamma': 0,\n",
       " 'train_reduce_lr': {'factor': 0.5, 'patience': 80, 'min_delta': 0},\n",
       " 'use_gpu': True}"
      ]
     },
     "execution_count": 13,
     "metadata": {},
     "output_type": "execute_result"
    }
   ],
   "source": [
    "conf = Config2D(\n",
    "    n_rays                = args.n_rays,\n",
    "    grid                  = args.grid,\n",
    "    n_channel_in          = X.shape[-1],\n",
    "    n_classes             = len(CLASS_NAMES)-1,\n",
    "    use_gpu               = args.gpu_datagen,\n",
    "\n",
    "    backbone              = 'unet',\n",
    "    unet_n_filter_base    = 64,\n",
    "    unet_n_depth          = args.n_depth,\n",
    "    head_blocks           = args.head_blocks, \n",
    "    net_conv_after_unet   = 256,\n",
    "\n",
    "    train_batch_size      = args.batchsize,\n",
    "    train_patch_size      = (args.patch, args.patch),\n",
    "    train_epochs          = args.epochs,\n",
    "    train_steps_per_epoch = 1024 // args.batchsize,\n",
    "    train_learning_rate   = args.lr, \n",
    "    train_loss_weights    = (1.0, 0.2, 1.0),\n",
    "    train_class_weights   = class_weights.tolist(),\n",
    "    train_background_reg  = 0.01,\n",
    "    train_reduce_lr       = {'factor': 0.5, 'patience': 80, 'min_delta': 0},\n",
    ")\n",
    "\n",
    "vars(conf)"
   ]
  },
  {
   "cell_type": "markdown",
   "id": "8aeba3ab",
   "metadata": {},
   "source": [
    "### Create model"
   ]
  },
  {
   "cell_type": "code",
   "execution_count": 14,
   "id": "239f0859",
   "metadata": {},
   "outputs": [
    {
     "name": "stdout",
     "output_type": "stream",
     "text": [
      "Using default values: prob_thresh=0.5, nms_thresh=0.4.\n"
     ]
    }
   ],
   "source": [
    "model = StarDist2D(conf, name='conic', basedir=args.modeldir)"
   ]
  },
  {
   "cell_type": "markdown",
   "id": "14e8e3b6",
   "metadata": {},
   "source": [
    "## Training"
   ]
  },
  {
   "cell_type": "code",
   "execution_count": 15,
   "id": "9cfb5207",
   "metadata": {
    "scrolled": false
   },
   "outputs": [
    {
     "name": "stdout",
     "output_type": "stream",
     "text": [
      "Epoch 1/20\n",
      "WARNING:tensorflow:AutoGraph could not transform <function _gcd_import at 0x7fb1dc72f430> and will run it as-is.\n",
      "Cause: Unable to locate the source code of <function _gcd_import at 0x7fb1dc72f430>. Note that functions defined in certain environments, like the interactive Python shell, do not expose their source code. If that is the case, you should define them in a .py source file. If you are certain the code is graph-compatible, wrap the call using @tf.autograph.experimental.do_not_convert. Original error: could not get source code\n",
      "To silence this warning, decorate the function with @tf.autograph.experimental.do_not_convert\n"
     ]
    },
    {
     "name": "stderr",
     "output_type": "stream",
     "text": [
      "WARNING:tensorflow | AutoGraph could not transform <function _gcd_import at 0x7fb1dc72f430> and will run it as-is.\n",
      "Cause: Unable to locate the source code of <function _gcd_import at 0x7fb1dc72f430>. Note that functions defined in certain environments, like the interactive Python shell, do not expose their source code. If that is the case, you should define them in a .py source file. If you are certain the code is graph-compatible, wrap the call using @tf.autograph.experimental.do_not_convert. Original error: could not get source code\n",
      "To silence this warning, decorate the function with @tf.autograph.experimental.do_not_convert\n"
     ]
    },
    {
     "name": "stdout",
     "output_type": "stream",
     "text": [
      "WARNING: AutoGraph could not transform <function _gcd_import at 0x7fb1dc72f430> and will run it as-is.\n",
      "Cause: Unable to locate the source code of <function _gcd_import at 0x7fb1dc72f430>. Note that functions defined in certain environments, like the interactive Python shell, do not expose their source code. If that is the case, you should define them in a .py source file. If you are certain the code is graph-compatible, wrap the call using @tf.autograph.experimental.do_not_convert. Original error: could not get source code\n",
      "To silence this warning, decorate the function with @tf.autograph.experimental.do_not_convert\n",
      "256/256 [==============================] - 58s 207ms/step - loss: 2.3547 - prob_loss: 0.2822 - dist_loss: 3.3614 - prob_class_loss: 1.4002 - prob_kld: 0.1737 - dist_relevant_mae: 3.3317 - dist_relevant_mse: 22.0680 - dist_dist_iou_metric: 0.2555 - val_loss: 1.6282 - val_prob_loss: 0.2247 - val_dist_loss: 2.6173 - val_prob_class_loss: 0.8801 - val_prob_kld: 0.1332 - val_dist_relevant_mae: 2.5871 - val_dist_relevant_mse: 13.6818 - val_dist_dist_iou_metric: 0.3481 - lr: 3.0000e-04\n",
      "Epoch 2/20\n",
      "256/256 [==============================] - 49s 193ms/step - loss: 1.6779 - prob_loss: 0.2294 - dist_loss: 2.3854 - prob_class_loss: 0.9714 - prob_kld: 0.1223 - dist_relevant_mae: 2.3514 - dist_relevant_mse: 11.9102 - dist_dist_iou_metric: 0.4205 - val_loss: 1.4732 - val_prob_loss: 0.2241 - val_dist_loss: 2.2215 - val_prob_class_loss: 0.8048 - val_prob_kld: 0.1325 - val_dist_relevant_mae: 2.1849 - val_dist_relevant_mse: 10.0707 - val_dist_dist_iou_metric: 0.4663 - lr: 3.0000e-04\n",
      "Epoch 3/20\n",
      "256/256 [==============================] - 49s 192ms/step - loss: 1.5417 - prob_loss: 0.2202 - dist_loss: 2.1869 - prob_class_loss: 0.8841 - prob_kld: 0.1126 - dist_relevant_mae: 2.1525 - dist_relevant_mse: 10.8090 - dist_dist_iou_metric: 0.4689 - val_loss: 1.2191 - val_prob_loss: 0.1840 - val_dist_loss: 2.0976 - val_prob_class_loss: 0.6157 - val_prob_kld: 0.0924 - val_dist_relevant_mae: 2.0619 - val_dist_relevant_mse: 9.3778 - val_dist_dist_iou_metric: 0.4899 - lr: 3.0000e-04\n",
      "Epoch 4/20\n",
      "256/256 [==============================] - 49s 194ms/step - loss: 1.4121 - prob_loss: 0.2083 - dist_loss: 1.9527 - prob_class_loss: 0.8132 - prob_kld: 0.1021 - dist_relevant_mae: 1.9224 - dist_relevant_mse: 8.7989 - dist_dist_iou_metric: 0.5113 - val_loss: 1.2195 - val_prob_loss: 0.1839 - val_dist_loss: 2.1291 - val_prob_class_loss: 0.6097 - val_prob_kld: 0.0924 - val_dist_relevant_mae: 2.1049 - val_dist_relevant_mse: 10.6662 - val_dist_dist_iou_metric: 0.4500 - lr: 3.0000e-04\n",
      "Epoch 5/20\n",
      "256/256 [==============================] - 49s 192ms/step - loss: 1.3540 - prob_loss: 0.2048 - dist_loss: 1.8878 - prob_class_loss: 0.7716 - prob_kld: 0.0967 - dist_relevant_mae: 1.8603 - dist_relevant_mse: 8.8450 - dist_dist_iou_metric: 0.5342 - val_loss: 1.1001 - val_prob_loss: 0.1735 - val_dist_loss: 1.9060 - val_prob_class_loss: 0.5453 - val_prob_kld: 0.0819 - val_dist_relevant_mae: 1.8762 - val_dist_relevant_mse: 7.9684 - val_dist_dist_iou_metric: 0.5492 - lr: 3.0000e-04\n",
      "Epoch 6/20\n",
      "256/256 [==============================] - 50s 195ms/step - loss: 1.3384 - prob_loss: 0.2045 - dist_loss: 1.8368 - prob_class_loss: 0.7666 - prob_kld: 0.0968 - dist_relevant_mae: 1.8097 - dist_relevant_mse: 8.5359 - dist_dist_iou_metric: 0.5446 - val_loss: 1.0849 - val_prob_loss: 0.1707 - val_dist_loss: 1.8079 - val_prob_class_loss: 0.5527 - val_prob_kld: 0.0791 - val_dist_relevant_mae: 1.7862 - val_dist_relevant_mse: 7.9688 - val_dist_dist_iou_metric: 0.5409 - lr: 3.0000e-04\n",
      "Epoch 7/20\n",
      "256/256 [==============================] - 49s 193ms/step - loss: 1.2515 - prob_loss: 0.1957 - dist_loss: 1.7393 - prob_class_loss: 0.7079 - prob_kld: 0.0892 - dist_relevant_mae: 1.7146 - dist_relevant_mse: 7.7719 - dist_dist_iou_metric: 0.5649 - val_loss: 1.0425 - val_prob_loss: 0.1675 - val_dist_loss: 1.7267 - val_prob_class_loss: 0.5297 - val_prob_kld: 0.0759 - val_dist_relevant_mae: 1.7028 - val_dist_relevant_mse: 7.0743 - val_dist_dist_iou_metric: 0.5836 - lr: 3.0000e-04\n",
      "Epoch 8/20\n",
      "256/256 [==============================] - 51s 198ms/step - loss: 1.2672 - prob_loss: 0.2006 - dist_loss: 1.6678 - prob_class_loss: 0.7330 - prob_kld: 0.0914 - dist_relevant_mae: 1.6427 - dist_relevant_mse: 7.3816 - dist_dist_iou_metric: 0.5795 - val_loss: 1.0140 - val_prob_loss: 0.1661 - val_dist_loss: 1.7212 - val_prob_class_loss: 0.5036 - val_prob_kld: 0.0746 - val_dist_relevant_mae: 1.6961 - val_dist_relevant_mse: 6.8800 - val_dist_dist_iou_metric: 0.5980 - lr: 3.0000e-04\n",
      "Epoch 9/20\n",
      "256/256 [==============================] - 50s 194ms/step - loss: 1.2110 - prob_loss: 0.1946 - dist_loss: 1.6437 - prob_class_loss: 0.6876 - prob_kld: 0.0867 - dist_relevant_mae: 1.6201 - dist_relevant_mse: 7.2820 - dist_dist_iou_metric: 0.5879 - val_loss: 0.9624 - val_prob_loss: 0.1633 - val_dist_loss: 1.6185 - val_prob_class_loss: 0.4754 - val_prob_kld: 0.0717 - val_dist_relevant_mae: 1.5986 - val_dist_relevant_mse: 6.7000 - val_dist_dist_iou_metric: 0.5845 - lr: 3.0000e-04\n",
      "Epoch 10/20\n",
      "256/256 [==============================] - 50s 195ms/step - loss: 1.1929 - prob_loss: 0.1929 - dist_loss: 1.6012 - prob_class_loss: 0.6797 - prob_kld: 0.0861 - dist_relevant_mae: 1.5773 - dist_relevant_mse: 7.0648 - dist_dist_iou_metric: 0.5987 - val_loss: 0.9378 - val_prob_loss: 0.1624 - val_dist_loss: 1.5489 - val_prob_class_loss: 0.4657 - val_prob_kld: 0.0708 - val_dist_relevant_mae: 1.5283 - val_dist_relevant_mse: 6.3542 - val_dist_dist_iou_metric: 0.6100 - lr: 3.0000e-04\n",
      "Epoch 11/20\n",
      "256/256 [==============================] - 50s 195ms/step - loss: 1.1850 - prob_loss: 0.1958 - dist_loss: 1.5823 - prob_class_loss: 0.6727 - prob_kld: 0.0862 - dist_relevant_mae: 1.5583 - dist_relevant_mse: 6.9862 - dist_dist_iou_metric: 0.6041 - val_loss: 0.9200 - val_prob_loss: 0.1607 - val_dist_loss: 1.5058 - val_prob_class_loss: 0.4582 - val_prob_kld: 0.0692 - val_dist_relevant_mae: 1.4853 - val_dist_relevant_mse: 5.9395 - val_dist_dist_iou_metric: 0.6194 - lr: 3.0000e-04\n",
      "Epoch 12/20\n",
      "256/256 [==============================] - 49s 193ms/step - loss: 1.1364 - prob_loss: 0.1916 - dist_loss: 1.4945 - prob_class_loss: 0.6459 - prob_kld: 0.0824 - dist_relevant_mae: 1.4720 - dist_relevant_mse: 6.1599 - dist_dist_iou_metric: 0.6173 - val_loss: 0.9110 - val_prob_loss: 0.1581 - val_dist_loss: 1.4872 - val_prob_class_loss: 0.4556 - val_prob_kld: 0.0665 - val_dist_relevant_mae: 1.4698 - val_dist_relevant_mse: 6.0960 - val_dist_dist_iou_metric: 0.6183 - lr: 3.0000e-04\n",
      "Epoch 13/20\n",
      "256/256 [==============================] - 49s 192ms/step - loss: 1.0988 - prob_loss: 0.1875 - dist_loss: 1.5087 - prob_class_loss: 0.6096 - prob_kld: 0.0790 - dist_relevant_mae: 1.4865 - dist_relevant_mse: 6.5177 - dist_dist_iou_metric: 0.6240 - val_loss: 0.8954 - val_prob_loss: 0.1606 - val_dist_loss: 1.4529 - val_prob_class_loss: 0.4442 - val_prob_kld: 0.0690 - val_dist_relevant_mae: 1.4335 - val_dist_relevant_mse: 5.4735 - val_dist_dist_iou_metric: 0.6283 - lr: 3.0000e-04\n",
      "Epoch 14/20\n",
      "256/256 [==============================] - 50s 195ms/step - loss: 1.0787 - prob_loss: 0.1873 - dist_loss: 1.4582 - prob_class_loss: 0.5998 - prob_kld: 0.0794 - dist_relevant_mae: 1.4366 - dist_relevant_mse: 6.0716 - dist_dist_iou_metric: 0.6288 - val_loss: 0.8958 - val_prob_loss: 0.1561 - val_dist_loss: 1.4246 - val_prob_class_loss: 0.4548 - val_prob_kld: 0.0645 - val_dist_relevant_mae: 1.4024 - val_dist_relevant_mse: 5.2639 - val_dist_dist_iou_metric: 0.6389 - lr: 3.0000e-04\n",
      "Epoch 15/20\n",
      "256/256 [==============================] - 50s 196ms/step - loss: 1.0590 - prob_loss: 0.1853 - dist_loss: 1.4392 - prob_class_loss: 0.5859 - prob_kld: 0.0776 - dist_relevant_mae: 1.4177 - dist_relevant_mse: 5.8628 - dist_dist_iou_metric: 0.6346 - val_loss: 0.9156 - val_prob_loss: 0.1596 - val_dist_loss: 1.4788 - val_prob_class_loss: 0.4603 - val_prob_kld: 0.0680 - val_dist_relevant_mae: 1.4545 - val_dist_relevant_mse: 5.5206 - val_dist_dist_iou_metric: 0.6488 - lr: 3.0000e-04\n",
      "Epoch 16/20\n"
     ]
    },
    {
     "name": "stdout",
     "output_type": "stream",
     "text": [
      "256/256 [==============================] - 49s 193ms/step - loss: 1.0659 - prob_loss: 0.1863 - dist_loss: 1.4625 - prob_class_loss: 0.5872 - prob_kld: 0.0781 - dist_relevant_mae: 1.4406 - dist_relevant_mse: 6.1567 - dist_dist_iou_metric: 0.6326 - val_loss: 0.8315 - val_prob_loss: 0.1542 - val_dist_loss: 1.3576 - val_prob_class_loss: 0.4058 - val_prob_kld: 0.0626 - val_dist_relevant_mae: 1.3368 - val_dist_relevant_mse: 4.8267 - val_dist_dist_iou_metric: 0.6583 - lr: 3.0000e-04\n",
      "Epoch 17/20\n",
      "256/256 [==============================] - 47s 184ms/step - loss: 1.0301 - prob_loss: 0.1831 - dist_loss: 1.4354 - prob_class_loss: 0.5599 - prob_kld: 0.0756 - dist_relevant_mae: 1.4141 - dist_relevant_mse: 6.0256 - dist_dist_iou_metric: 0.6401 - val_loss: 0.8256 - val_prob_loss: 0.1528 - val_dist_loss: 1.3601 - val_prob_class_loss: 0.4007 - val_prob_kld: 0.0613 - val_dist_relevant_mae: 1.3428 - val_dist_relevant_mse: 4.8714 - val_dist_dist_iou_metric: 0.6478 - lr: 3.0000e-04\n",
      "Epoch 18/20\n",
      "256/256 [==============================] - 48s 186ms/step - loss: 1.0257 - prob_loss: 0.1843 - dist_loss: 1.4023 - prob_class_loss: 0.5609 - prob_kld: 0.0765 - dist_relevant_mae: 1.3812 - dist_relevant_mse: 5.7423 - dist_dist_iou_metric: 0.6428 - val_loss: 0.8739 - val_prob_loss: 0.1624 - val_dist_loss: 1.4177 - val_prob_class_loss: 0.4279 - val_prob_kld: 0.0708 - val_dist_relevant_mae: 1.3954 - val_dist_relevant_mse: 5.2053 - val_dist_dist_iou_metric: 0.6412 - lr: 3.0000e-04\n",
      "Epoch 19/20\n",
      "256/256 [==============================] - 48s 186ms/step - loss: 1.0322 - prob_loss: 0.1861 - dist_loss: 1.4193 - prob_class_loss: 0.5623 - prob_kld: 0.0765 - dist_relevant_mae: 1.3981 - dist_relevant_mse: 6.0322 - dist_dist_iou_metric: 0.6444 - val_loss: 0.7932 - val_prob_loss: 0.1519 - val_dist_loss: 1.3200 - val_prob_class_loss: 0.3773 - val_prob_kld: 0.0603 - val_dist_relevant_mae: 1.3013 - val_dist_relevant_mse: 4.7082 - val_dist_dist_iou_metric: 0.6639 - lr: 3.0000e-04\n",
      "Epoch 20/20\n",
      "256/256 [==============================] - 48s 186ms/step - loss: 0.9974 - prob_loss: 0.1803 - dist_loss: 1.3860 - prob_class_loss: 0.5399 - prob_kld: 0.0733 - dist_relevant_mae: 1.3651 - dist_relevant_mse: 5.6330 - dist_dist_iou_metric: 0.6490 - val_loss: 0.8155 - val_prob_loss: 0.1525 - val_dist_loss: 1.3112 - val_prob_class_loss: 0.4008 - val_prob_kld: 0.0609 - val_dist_relevant_mae: 1.2942 - val_dist_relevant_mse: 4.8154 - val_dist_dist_iou_metric: 0.6629 - lr: 3.0000e-04\n",
      "\n",
      "Loading network weights from 'weights_best.h5'.\n"
     ]
    },
    {
     "data": {
      "text/plain": [
       "<keras.callbacks.History at 0x7fb11c7bef10>"
      ]
     },
     "execution_count": 15,
     "metadata": {},
     "output_type": "execute_result"
    }
   ],
   "source": [
    "model.train(X, Y, classes=D, validation_data=(Xv, Yv, Dv), augmenter=augmenter, workers=args.workers)"
   ]
  },
  {
   "cell_type": "code",
   "execution_count": 16,
   "id": "8c2b7868",
   "metadata": {},
   "outputs": [
    {
     "name": "stderr",
     "output_type": "stream",
     "text": [
      "NMS threshold = 0.1:  80%|████████  | 16/20 [00:55<00:13,  3.45s/it, 0.499 -> 0.572]\n",
      "NMS threshold = 0.2:  80%|████████  | 16/20 [00:54<00:13,  3.41s/it, 0.499 -> 0.573]\n",
      "NMS threshold = 0.3:  80%|████████  | 16/20 [00:55<00:13,  3.46s/it, 0.499 -> 0.573]\n"
     ]
    },
    {
     "name": "stdout",
     "output_type": "stream",
     "text": [
      "Using optimized values: prob_thresh=0.497882, nms_thresh=0.3.\n",
      "Saving to 'thresholds.json'.\n"
     ]
    },
    {
     "data": {
      "text/plain": [
       "{'prob': 0.49788182973861694, 'nms': 0.3}"
      ]
     },
     "execution_count": 16,
     "metadata": {},
     "output_type": "execute_result"
    }
   ],
   "source": [
    "model.optimize_thresholds(Xv, Yv, nms_threshs=[0.1, 0.2, 0.3])"
   ]
  }
 ],
 "metadata": {
  "kernelspec": {
   "display_name": "Python 3",
   "language": "python",
   "name": "python3"
  },
  "language_info": {
   "codemirror_mode": {
    "name": "ipython",
    "version": 3
   },
   "file_extension": ".py",
   "mimetype": "text/x-python",
   "name": "python",
   "nbconvert_exporter": "python",
   "pygments_lexer": "ipython3",
   "version": "3.8.11"
  }
 },
 "nbformat": 4,
 "nbformat_minor": 5
}
